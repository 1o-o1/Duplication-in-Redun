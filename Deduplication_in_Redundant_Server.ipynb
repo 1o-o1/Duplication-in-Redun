{
  "cells": [
    {
      "cell_type": "markdown",
      "metadata": {
        "id": "view-in-github",
        "colab_type": "text"
      },
      "source": [
        "<a href=\"https://colab.research.google.com/github/1o-o1/Duplication-in-Redun/blob/main/Deduplication_in_Redundant_Server.ipynb\" target=\"_parent\"><img src=\"https://colab.research.google.com/assets/colab-badge.svg\" alt=\"Open In Colab\"/></a>"
      ]
    },
    {
      "cell_type": "code",
      "execution_count": 1,
      "metadata": {
        "colab": {
          "base_uri": "https://localhost:8080/"
        },
        "id": "abCO7ockx51q",
        "outputId": "7e5728b4-cac6-4a5c-c5bd-f25c33c5c154"
      },
      "outputs": [
        {
          "output_type": "stream",
          "name": "stdout",
          "text": [
            "Looking in indexes: https://pypi.org/simple, https://us-python.pkg.dev/colab-wheels/public/simple/\n",
            "Collecting pycrypto\n",
            "  Downloading pycrypto-2.6.1.tar.gz (446 kB)\n",
            "\u001b[K     |████████████████████████████████| 446 kB 7.9 MB/s \n",
            "\u001b[?25hBuilding wheels for collected packages: pycrypto\n",
            "  Building wheel for pycrypto (setup.py) ... \u001b[?25l\u001b[?25hdone\n",
            "  Created wheel for pycrypto: filename=pycrypto-2.6.1-cp37-cp37m-linux_x86_64.whl size=499932 sha256=36e379fb4682f397c6a8ea913284b4f3e4e32ca0336b3930c93cb616331b8546\n",
            "  Stored in directory: /root/.cache/pip/wheels/cf/85/ba/bbd7c96add459de7598fb424e5ff2309baf2095c844ac0f191\n",
            "Successfully built pycrypto\n",
            "Installing collected packages: pycrypto\n",
            "Successfully installed pycrypto-2.6.1\n",
            "Looking in indexes: https://pypi.org/simple, https://us-python.pkg.dev/colab-wheels/public/simple/\n",
            "Collecting hungarian-algorithm\n",
            "  Downloading hungarian_algorithm-0.1.11-py3-none-any.whl (10 kB)\n",
            "Installing collected packages: hungarian-algorithm\n",
            "Successfully installed hungarian-algorithm-0.1.11\n"
          ]
        }
      ],
      "source": [
        "!pip install pycrypto\n",
        "!pip3 install hungarian-algorithm"
      ]
    },
    {
      "cell_type": "code",
      "execution_count": 2,
      "metadata": {
        "id": "4POna-4pCuhW"
      },
      "outputs": [],
      "source": [
        "import numpy as np\n",
        "import pandas as pd\n",
        "from hashlib import sha256\n",
        "from hashlib import sha224\n",
        "import string\n",
        "import random\n",
        "import math\n",
        "import time\n",
        "import base64\n",
        "import hashlib\n",
        "from Crypto import Random\n",
        "from Crypto.Cipher import AES\n",
        "from hungarian_algorithm import algorithm"
      ]
    },
    {
      "cell_type": "code",
      "execution_count": 3,
      "metadata": {
        "id": "TNNdbmnKC0j5"
      },
      "outputs": [],
      "source": [
        "class data_server:\n",
        "  def __init__(self,id,size):\n",
        "    self.id=id\n",
        "    self.size=size\n",
        "    self.available=True\n",
        "    self.memory=np.empty(size, dtype=object)\n",
        "\n",
        "  def availablity(self,val):\n",
        "    self.available=val\n",
        "\n",
        "  def read(self, address, lenth):\n",
        "      if self.available == False:\n",
        "        return None\n",
        "      data=[]\n",
        "      for i in range(lenth):\n",
        "        data.append(self.memory[address+i])\n",
        "      return data\n",
        "\n",
        "  def write(self, address,data ):\n",
        "    self.memory[address]=data\n",
        "\n",
        "  def read_multiple(self, addresses):\n",
        "    data=[]\n",
        "    for address in addresses:\n",
        "      data.append(self.read(address,1))\n",
        "    return data\n",
        "\n",
        "  def write_multiple(self, addresses,datas):\n",
        "    for i in range(len(datas)):\n",
        "      self.write(addresses[i],datas[i])\n",
        "      print(datas[i])"
      ]
    },
    {
      "cell_type": "code",
      "execution_count": 4,
      "metadata": {
        "id": "mdJGfkh8Mq0b"
      },
      "outputs": [],
      "source": [
        "class index_server:\n",
        "  def __init__(self,id,data_server):\n",
        "    self.id=id\n",
        "    self.users = {} #contains lots of files (memory location)\n",
        "    self.servers={} #contains lots of servers and each server mem location has boolean value ,used or not used\n",
        "    self.hash_map ={}   #contains hash as key with memory location\n",
        "    self.data_server = data_server\n",
        "    self.block_size=64\n",
        "    self.max_server=10\n",
        "\n",
        "\n",
        "#############################################################\n",
        "#                           USER                            #\n",
        "#                         Functions                         #\n",
        "#############################################################\n",
        "  def create_user(self):\n",
        "    return\n",
        "  def Authenticate_user(self):\n",
        "    return\n",
        "  def Authorize_user(self):\n",
        "    return\n",
        "\n",
        "#check user or file exist other wise add that\n",
        "# assumption user_ID and file_ID are unique\n",
        "  def add_user_file(self,user_id,file_id):\n",
        "    if self.users.get(user_id)==None or self.users[user_id].get(file_id)==None :\n",
        "      self.users[user_id]={file_id:[]}\n",
        "    else:\n",
        "      return 0;\n",
        "\n",
        "#check if a hash exist or add it\n",
        "  def add_user_file_block(self,user_id,file_id,hash):\n",
        "    if hash not in self.users[user_id].get(file_id):\n",
        "      self.users[user_id][file_id].append(hash)\n",
        "    else:\n",
        "      return 0\n",
        "\n",
        "\n",
        "  def delete_user_file(self):\n",
        "    return;\n",
        "  def delete_user_file_block(self):\n",
        "    return;\n",
        "#\"\"\"User\"\"\"\n",
        "\n",
        "\n",
        "#############################################################\n",
        "#                          SERVER                           #\n",
        "#                         Functions                         #\n",
        "#############################################################\n",
        "\n",
        "#intilize the server with empty count\n",
        "  def server_init(self,names, sizes):\n",
        "    for name,size in zip(names,sizes):\n",
        "      #print(str(name)+\" \"+str(size))\n",
        "      self.servers[name]=np.zeros(size,dtype=int)\n",
        "\n",
        "#keep the count of memory location being used\n",
        "  def server_update(self,name):\n",
        "    pos=np.argmin(self.servers[name])\n",
        "    self.servers[name][pos]=1\n",
        "    return pos\n",
        "\n",
        "#add pair< server, memory location> to a hash\n",
        "  def add_hash(self,hash,server_memory):\n",
        "    if self.hash_map.get(hash)==None :\n",
        "      self.hash_map[hash]=[]\n",
        "    self.hash_map[hash].append(server_memory)\n",
        "\n",
        "### calculate divisors to find out the approprate list of servers, and number of server\n",
        "  def get_server_list(self,n):\n",
        "    divs = [1]\n",
        "    for i in range(2,int(math.sqrt(n))+1):\n",
        "        if n%i == 0:\n",
        "          if i<=self.max_server:\n",
        "            divs.extend([i])\n",
        "          if n/i<=self.max_server:\n",
        "            divs.extend([int(n/i)])\n",
        "    if n<=self.max_server:\n",
        "      divs.extend([n])\n",
        "    divs=list(set(divs))\n",
        "    divs.sort()\n",
        "\n",
        "    server_list=[]\n",
        "    for i in range(self.max_server):\n",
        "      server_list.append(i)\n",
        "    return server_list,divs[-1]\n",
        "\n",
        "# Calculate the free storage size\n",
        "  def server_occupency(self,names):\n",
        "    free=[]\n",
        "    for name in names:\n",
        "      free.append(np.count_nonzero(self.servers[name]==0))\n",
        "    return free\n",
        "\n",
        "\n",
        "  def hash_delete(self):\n",
        "    return 0  \n",
        "\n",
        "  def location_of(self,hash):  #hash\n",
        "    if self.hash_map.get(hash)==None :\n",
        "      return 0;\n",
        "    else:\n",
        "      return self.hash_map[hash]\n",
        "\n",
        "  def hash_of(self):  #location\n",
        "    return;\n",
        "#############                server end               ################\n",
        "\n",
        "\n",
        "###################################################################################\n",
        "#                         READ (blocks and string)                                #\n",
        "###################################################################################\n",
        "  def read_data(self,user_id,file_id):\n",
        "    data=[]\n",
        "    hashes=self.users[user_id][file_id]\n",
        "    for hash in hashes:\n",
        "      servers_loc=np.array(self.location_of(hash))\n",
        "      \n",
        "      tmp=[]\n",
        "      for loc in servers_loc:\n",
        "        tmp_dat=self.data_server[loc[0]].read(loc[1],1)\n",
        "        if tmp_dat!= None:\n",
        "          tmp = tmp+tmp_dat\n",
        "\n",
        "      max_match =self.integrity_check(tmp,hash)\n",
        "      if max_match !=0:\n",
        "        data.append(max_match)\n",
        "    str_data=''.join(data)\n",
        "    return data, str_data\n",
        "\n",
        "\n",
        "######################################################################\n",
        "#                                WRITE                               #\n",
        "######################################################################\n",
        "  def write_data(self,data,user_id,file_id,block_size=64,redundency=3):\n",
        "    \n",
        "    if self.add_user_file(user_id,file_id) == 0:\n",
        "      return self.update_data(data,user_id,file_id,block_size,redundency)\n",
        "    blocks, hashes = self.block_create(data,block_size)\n",
        "    server_list,num= self.get_server_list(redundency*len(blocks))\n",
        "    #print(num)\n",
        "    er=self.data_disperse(blocks, hashes,server_list,num,redundency)\n",
        "    for hash in hashes:\n",
        "      self.add_user_file_block(user_id,file_id,hash)\n",
        "    \n",
        "    return er\n",
        "\n",
        "\n",
        "\n",
        "######################################################################\n",
        "#                               UPDATE                               #\n",
        "######################################################################\n",
        "  def update_data(self,data,user_id,file_id,block_size=64,redundency=3):\n",
        "    old_hashes=self.users[user_id][file_id]\n",
        "    new_blocks, new_hashes = self.block_create(data,block_size)\n",
        "    \n",
        "    diff_hash = set(new_hashes)-set(old_hashes)\n",
        "    index= [i for i, el in enumerate(new_hashes) if el in diff_hash]\n",
        "    \n",
        "    print(\"Changed in\" + str(index))\n",
        "    diff_blocks=[]\n",
        "    for i in index:\n",
        "        diff_blocks.append(new_blocks[i])\n",
        "    diff_hash=list(diff_hash)\n",
        "    self.users[user_id][file_id]= new_hashes\n",
        "    server_list,num= self.get_server_list(redundency*len(diff_hash))\n",
        "    er=self.data_disperse(diff_blocks, diff_hash,server_list,num,redundency)\n",
        "    #print(num)\n",
        "    return er\n",
        "\n",
        "\n",
        "\n",
        "\n",
        "  def delete_data(self):\n",
        "    return 0\n",
        "\n",
        "#creates blocks and hash, returns both\n",
        "  def block_create(self,data,block_size):\n",
        "    blocks = [data[i:i+block_size] for i in range(0, len(data), block_size)]\n",
        "    hashes=[]\n",
        "    for block in blocks:\n",
        "      hashes.append(self.hash_generation(block))\n",
        "    return blocks,hashes\n",
        "\n",
        "  def hash_generation(self,block):\n",
        "    return sha256(block.encode('utf-8')).hexdigest()\n",
        "\n",
        "#rating calculation just from duplication, other factors will be added\n",
        "  def rating_calculation(self,subsets_hashes,server_list):\n",
        "    server_num_all=len(server_list)\n",
        "    taken=[]\n",
        "    dupli =[]\n",
        "    for subsets in subsets_hashes :\n",
        "      rating=np.zeros(server_num_all,dtype=int)\n",
        "      for hash in subsets:\n",
        "        servers_loc=self.location_of(hash)\n",
        "        if servers_loc != 0:\n",
        "          for loc in servers_loc:\n",
        "            rating[loc[0]]=rating[loc[0]]+1\n",
        "      ##print(rating)\n",
        "      \n",
        "      dupli.append(rating)\n",
        "      \n",
        "      #greedy\n",
        "      #if the server already taken we won't take it\n",
        "      rating[taken] = -1\n",
        "      server_id = np.argmax(rating)\n",
        "      taken.append(server_id)\n",
        "      ##print(server_id)\n",
        "    #dp =solve (dp,0,len(subset,0,[],dupli))\n",
        "    return taken\n",
        "\n",
        "  def solve (self,dp,i,n, mask,taken,rating):\n",
        "      #print(str(i)+\" and \"+str(mask)+str(taken))\n",
        "      if i>=n:\n",
        "        return 0\n",
        "      if(dp[i][mask] != 0):\n",
        "        return dp[i][mask];\n",
        "      ans = 0;\n",
        "      for k in range (n):\n",
        "        if k not in taken:\n",
        "          takenew = taken\n",
        "          takenew.append(k)\n",
        "          ans = max(ans,solve(i+1,k,takenew)+rating[i][mask])\n",
        "      ans=ans+np.max(rating[i])\n",
        "      dp[i][mask]=ans\n",
        "      return ans\n",
        "\n",
        "################################################\n",
        "#############     data_disperse   ##############\n",
        "\n",
        "  def data_disperse(self, blocks, hashes, server_list,server_num, redundency=3):\n",
        "    #data_server= self.data_server\n",
        "    block_tot =[]\n",
        "    hash_tot =[]\n",
        "    #redundency=3\n",
        "    #server_list= [0,1,2,3,4,5]\n",
        "    if int(len(blocks)*redundency)%server_num != 0:\n",
        "      return \"Error Number of Server is not Correct\"\n",
        "\n",
        "    #subset er lenth fixed\n",
        "    subset_len= int(len(blocks)*redundency/server_num)\n",
        "\n",
        "    #data redudency bar copy kora\n",
        "    for i in range (redundency):\n",
        "      block_tot=block_tot+blocks\n",
        "      hash_tot=hash_tot+hashes\n",
        "\n",
        "    #block niye subset banano\n",
        "    subsets_block = [block_tot[i:i+subset_len] for i in range(0, len(block_tot), subset_len)]\n",
        "    subsets_hashes = [hash_tot[i:i+subset_len] for i in range(0, len(hash_tot), subset_len)]\n",
        "\n",
        "    #rating calculator kon server e pathaite hobe sei ID dey\n",
        "    taken=self.rating_calculation(subsets_hashes,server_list)\n",
        "\n",
        "\n",
        "    i=0\n",
        "    for subsets,bls in zip(subsets_hashes,  subsets_block) :\n",
        "      serv=taken[i]\n",
        "      #serv is the dataserver ID\n",
        "\n",
        "      #print(\"server\"+str(serv))\n",
        "      for hash,datas in zip(subsets,bls):\n",
        "        servers_loc=np.array(self.location_of(hash))\n",
        "        #print(servers_loc)\n",
        "        if not (servers_loc.shape != () and [serv,-1]  in servers_loc):\n",
        "          # eida on## print(' servers pathaite hobe '+ str(serv))\n",
        "          #server memory list update\n",
        "          pos = self.server_update(serv)\n",
        "          #pos , position empty on that server\n",
        "          self.data_server[serv].write(pos,datas)\n",
        "          #hash list update\n",
        "          self.add_hash(hash,[serv,pos])\n",
        "\n",
        "      # eida on## print(str(i)+' subset sesh')\n",
        "      i=i+1\n",
        "    return \"Success\"\n",
        "\n",
        "\n",
        "\n",
        "  def integrity_check(self,datas,hash):  #from Dataserver\n",
        "    datas_clean = list(filter(lambda data: data is not None, datas))\n",
        "    matched_data=max(set(datas_clean), key = datas_clean.count,default=None)\n",
        "    if matched_data==None:\n",
        "      return 0\n",
        "    new_hash=self.hash_generation(matched_data)\n",
        "    if new_hash != hash:\n",
        "      return 0\n",
        "    return matched_data\n",
        "\n",
        "  \n",
        "  def inconsistency_check(self): #among Index Server\n",
        "    return 0\n",
        "\n",
        "class MerkleTreeNode:\n",
        "    def __init__(self,value):\n",
        "        self.left = None\n",
        "        self.right = None\n",
        "        self.value = value\n",
        "        self.hashValue = hashlib.sha256(value.encode('utf-8')).hexdigest()\n",
        "    \n",
        "def buildTree(leaves):\n",
        "    nodes = []\n",
        "    for i in leaves:\n",
        "        nodes.append(MerkleTreeNode(i))\n",
        "\n",
        "    while len(nodes)!=1:\n",
        "        temp = []\n",
        "        for i in range(0,len(nodes),2):\n",
        "            node1 = nodes[i]\n",
        "            if i+1 < len(nodes):\n",
        "                node2 = nodes[i+1]\n",
        "            else:\n",
        "                temp.append(nodes[i])\n",
        "                break\n",
        "            #print(\"Left child : \"+ node1.value + \" | Hash : \" + node1.hashValue +\" \\n\")\n",
        "            #print(\"Right child : \"+ node2.value + \" | Hash : \" + node2.hashValue +\" \\n\")\n",
        "            concatenatedHash = node1.hashValue + node2.hashValue\n",
        "            parent = MerkleTreeNode(concatenatedHash)\n",
        "            parent.left = node1\n",
        "            parent.right = node2\n",
        "            #print(\"Parent(concatenation of *\"+ node1.value + \"* and *\" + node2.value + \"*) : \" +parent.value + \" | Hash : \" + parent.hashValue +\" \\n\")\n",
        "            temp.append(parent)\n",
        "        nodes = temp \n",
        "    return nodes\n",
        "\n",
        "def check_match(node1, node2):\n",
        "  if node1 == None:\n",
        "    return \n",
        "  if node1.value==node2.value:\n",
        "    return node1.value\n",
        "  else:\n",
        "    x = check_match(node1.left,node2.left)\n",
        "    y = check_match(node1.right,node2.right)\n",
        "  if x !=None and y!=None: \n",
        "    return x,y\n",
        "  if x !=None: \n",
        "    return x\n",
        "  if y !=None: \n",
        "    return x\n"
      ]
    },
    {
      "cell_type": "code",
      "execution_count": 30,
      "metadata": {
        "id": "EVDgQhzMvSaP"
      },
      "outputs": [],
      "source": [
        "class client:\n",
        "  def __init__(self,id):\n",
        "    self.id=id\n",
        "    self.en_key=None\n",
        "    self.dn_key=None\n",
        "    self.bs = AES.block_size\n",
        "    self.iv= b'\\x02\\xd3\\xefg\\x05\\xf6\\xa6\\x9cK\\xe5\\xfaJ\\xc1@\\xa7 '\n",
        "    # initial vector (iv) used to make different cypher for same msg\n",
        "\n",
        "  #mode en,dn, both\n",
        "  def take_key(self, key,mode='en'):\n",
        "    if mode== 'en':\n",
        "      self.en_key=hashlib.sha256(key.encode()).digest()\n",
        "    elif mode == 'dn':\n",
        "      self.dn_key=hashlib.sha256(key.encode()).digest()\n",
        "    else:\n",
        "      self.dn_key=hashlib.sha256(key.encode()).digest()\n",
        "      self.en_key=hashlib.sha256(key.encode()).digest()\n",
        "\n",
        "\n",
        "  def encrypt(self, raw):\n",
        "    raw = self._pad(raw)\n",
        "    #iv = Random.new().read(AES.block_size)\n",
        "    iv=self.iv\n",
        "    cipher = AES.new(self.en_key, AES.MODE_CBC, iv)\n",
        "    return base64.b64encode(iv + cipher.encrypt(raw.encode()))\n",
        "\n",
        "\n",
        "  def decrypt(self, enc):\n",
        "      enc = base64.b64decode(enc)\n",
        "      #iv = enc[:AES.block_size]\n",
        "      iv= self.iv\n",
        "      cipher = AES.new(self.dn_key, AES.MODE_CBC, iv)\n",
        "      return self._unpad(cipher.decrypt(enc[AES.block_size:])).decode('utf-8')\n",
        "\n",
        "  def _pad(self, s):\n",
        "      return s + (self.bs - len(s) % self.bs) * chr(self.bs - len(s) % self.bs)\n",
        "\n",
        "  @staticmethod\n",
        "  def _unpad(s):\n",
        "      return s[:-ord(s[len(s)-1:])]\n",
        "\n",
        "\n",
        "\n",
        "  def read(self,fileid,server):\n",
        "    bl,data = server.read_data(self.id,fileid)\n",
        "    return bl,self.decrypt(data)\n",
        "\n",
        "  def write(self,data,fileid,server,blocksize=64):\n",
        "    data= self.encrypt(data).decode(\"utf-8\") \n",
        "    return server.write_data(data,self.id,fileid,blocksize)\n",
        "\n",
        "  def update(self,data,fileid,server,blocksize=64):\n",
        "    data= self.encrypt(data);\n",
        "    return server.write_data(data,self.id,fileid,blocksize)\n",
        "\n",
        "  def delete(self):\n",
        "    return 0\n",
        "  def create_blocks(self,data,server,blocksize=64):\n",
        "    data= self.encrypt(data).decode(\"utf-8\") \n",
        "    blocks,hashes = server.block_create(data,blocksize)\n",
        "    return blocks\n"
      ]
    },
    {
      "cell_type": "markdown",
      "metadata": {
        "id": "jlrRuyqq57eQ"
      },
      "source": [
        "## **Initialization** ☑"
      ]
    },
    {
      "cell_type": "code",
      "execution_count": 31,
      "metadata": {
        "id": "4WJ-SZvBMxDi"
      },
      "outputs": [],
      "source": [
        "ds=[]\n",
        "names=[]\n",
        "sizes=[]\n",
        "for i in range(1000):\n",
        "  ds.append(data_server(i,1000))\n",
        "  names.append(i)\n",
        "  sizes.append(1000)"
      ]
    },
    {
      "cell_type": "code",
      "execution_count": 32,
      "metadata": {
        "id": "hTjOTD1COiGi"
      },
      "outputs": [],
      "source": [
        "boss = index_server(0,ds)"
      ]
    },
    {
      "cell_type": "code",
      "execution_count": 33,
      "metadata": {
        "id": "ZmW_SnQuOgGf"
      },
      "outputs": [],
      "source": [
        "boss.server_init(names,sizes)"
      ]
    },
    {
      "cell_type": "markdown",
      "source": [
        "File Size Here"
      ],
      "metadata": {
        "id": "dSRT-vrRCgFQ"
      }
    },
    {
      "cell_type": "code",
      "execution_count": 23,
      "metadata": {
        "id": "hyqrwpvNPGbx"
      },
      "outputs": [],
      "source": [
        "data = ''.join(random.choice(string.ascii_letters) for i in range(16*1024*1024))"
      ]
    },
    {
      "cell_type": "markdown",
      "metadata": {
        "id": "0UrPYMSvb3Kz"
      },
      "source": [
        "Run only to change number of maximum server for user"
      ]
    },
    {
      "cell_type": "code",
      "execution_count": 34,
      "metadata": {
        "id": "Xo6MyjttbyZW"
      },
      "outputs": [],
      "source": [
        "boss.max_server = 80"
      ]
    },
    {
      "cell_type": "markdown",
      "metadata": {
        "id": "nglNCG9P6E8f"
      },
      "source": [
        "Dont Run If **Large**"
      ]
    },
    {
      "cell_type": "code",
      "execution_count": null,
      "metadata": {
        "id": "XX8xPdX7RsxW"
      },
      "outputs": [],
      "source": [
        "data"
      ]
    },
    {
      "cell_type": "markdown",
      "metadata": {
        "id": "-mPPR5D86Kow"
      },
      "source": [
        "# Direct Query to Index Server (For Test)"
      ]
    },
    {
      "cell_type": "code",
      "execution_count": 11,
      "metadata": {
        "colab": {
          "base_uri": "https://localhost:8080/"
        },
        "id": "Vn-MnXT1OsXO",
        "outputId": "17470f0c-1e91-428f-913e-2527c2abc95d"
      },
      "outputs": [
        {
          "output_type": "stream",
          "name": "stdout",
          "text": [
            "0.23383164405822754\n"
          ]
        }
      ],
      "source": [
        "prev=time.time()\n",
        "boss.write_data(data,'u0','file0',block_size=8*1024,redundency=4)\n",
        "cur= time.time()\n",
        "print(cur-prev)\n"
      ]
    },
    {
      "cell_type": "code",
      "execution_count": 13,
      "metadata": {
        "id": "7KjjS7opPck2"
      },
      "outputs": [],
      "source": [
        "data=data.replace('k','S',5)"
      ]
    },
    {
      "cell_type": "code",
      "execution_count": 12,
      "metadata": {
        "colab": {
          "base_uri": "https://localhost:8080/"
        },
        "id": "zAC-iREzuDQF",
        "outputId": "e7d1574d-c021-4e75-ae08-bc969285ad3a"
      },
      "outputs": [
        {
          "output_type": "stream",
          "name": "stdout",
          "text": [
            "0.1059885025024414\n"
          ]
        }
      ],
      "source": [
        "prev=time.time()\n",
        "boss.read_data('u0','file0')\n",
        "cur= time.time()\n",
        "print(cur-prev)"
      ]
    },
    {
      "cell_type": "code",
      "execution_count": 14,
      "metadata": {
        "colab": {
          "base_uri": "https://localhost:8080/"
        },
        "id": "3TFY8mjK0uC1",
        "outputId": "aba52c98-9c63-4e32-f8f2-7da988903653"
      },
      "outputs": [
        {
          "output_type": "stream",
          "name": "stdout",
          "text": [
            "Changed in[0]\n",
            "0.06813859939575195\n"
          ]
        }
      ],
      "source": [
        "prev=time.time()\n",
        "boss.update_data(data,'u0','file0',8*1024)\n",
        "cur= time.time()\n",
        "print(cur-prev)"
      ]
    },
    {
      "cell_type": "code",
      "execution_count": 15,
      "metadata": {
        "colab": {
          "base_uri": "https://localhost:8080/"
        },
        "id": "aAcGnWqmQHLh",
        "outputId": "1407fee4-79bb-4e68-d50b-172a01ce3c3a"
      },
      "outputs": [
        {
          "output_type": "execute_result",
          "data": {
            "text/plain": [
              "16777216"
            ]
          },
          "metadata": {},
          "execution_count": 15
        }
      ],
      "source": [
        "_,read_dat=boss.read_data('u0','file0')\n",
        "len(read_dat)"
      ]
    },
    {
      "cell_type": "code",
      "execution_count": null,
      "metadata": {
        "colab": {
          "base_uri": "https://localhost:8080/"
        },
        "id": "Z7f5bWw7R5BC",
        "outputId": "0aab262d-2b4c-4d0d-e2b5-e17cc6a10946"
      },
      "outputs": [
        {
          "data": {
            "text/plain": [
              "([0, 1, 2, 3, 4, 5, 6, 7, 8, 9], 8)"
            ]
          },
          "execution_count": 14,
          "metadata": {},
          "output_type": "execute_result"
        }
      ],
      "source": []
    },
    {
      "cell_type": "markdown",
      "metadata": {
        "id": "3S2ykGRS5q5Q"
      },
      "source": [
        "# For user Call ▶"
      ]
    },
    {
      "cell_type": "code",
      "execution_count": 35,
      "metadata": {
        "id": "PGYeB7G4t0yA"
      },
      "outputs": [],
      "source": [
        "user0=client('u0')\n",
        "user0.take_key('$a33|12',mode='both')"
      ]
    },
    {
      "cell_type": "code",
      "execution_count": 36,
      "metadata": {
        "id": "4HF3l9mHzuNx"
      },
      "outputs": [],
      "source": [
        "data = \"Lorem ipsum dolor sit amet, consectetur adipiscing elit. Curabitur sed luctus ex, id porttitor felis. Suspendisse scelerisque risus ex. Nulla quis augue in metus tincidunt scelerisque. Cras ultricies dolor ipsum, ac faucibus magna vulputate eget. Curabitur bibendum felis eros, quis congue felis blandit in. Pellentesque in est a mauris eleifend sollicitudin. Curabitur a rutrum ex, vitae volutpat nibh. Class aptent taciti sociosqu ad litora torquent per conubia nostra, per inceptos himenaeos. Lorem ipsum dolor sit amet, consectetur adipiscing elit. Vestibulum sed augue et erat dapibus dapibus. Sed vel suscipit mauris. Proin libero nulla, congue sed commodo sit amet, auctor eget velit. Curabitur varius, sem sit amet dapibus finibus, enim nisl scelerisque ipsum, vel convallis nulla dolor non magna. Sed mollis mauris sit amet eros consequat, nec maximus lorem iaculis. Sed non tellus convallis, dictum nisl in, aliquam est. Etiam ac nibh mattis, dictum odio nec, porttitor eros. Fusce egestas, odio non egestas aenean.\""
      ]
    },
    {
      "cell_type": "code",
      "execution_count": 37,
      "metadata": {
        "colab": {
          "base_uri": "https://localhost:8080/",
          "height": 36
        },
        "id": "ZYT6IHb1y3An",
        "outputId": "52945068-ebb9-494c-f994-d2bdd22ae8bf"
      },
      "outputs": [
        {
          "output_type": "execute_result",
          "data": {
            "text/plain": [
              "'Success'"
            ],
            "application/vnd.google.colaboratory.intrinsic+json": {
              "type": "string"
            }
          },
          "metadata": {},
          "execution_count": 37
        }
      ],
      "source": [
        "user0.write(data,'file0',boss)"
      ]
    },
    {
      "cell_type": "code",
      "execution_count": 38,
      "metadata": {
        "colab": {
          "base_uri": "https://localhost:8080/",
          "height": 109
        },
        "id": "VaX84-gl4frR",
        "outputId": "fe9694a8-c033-4b00-ba70-02055ceaafde"
      },
      "outputs": [
        {
          "output_type": "execute_result",
          "data": {
            "text/plain": [
              "'Lorem ipsum dolor sit amet, consectetur adipiscing elit. Curabitur sed luctus ex, id porttitor felis. Suspendisse scelerisque risus ex. Nulla quis augue in metus tincidunt scelerisque. Cras ultricies dolor ipsum, ac faucibus magna vulputate eget. Curabitur bibendum felis eros, quis congue felis blandit in. Pellentesque in est a mauris eleifend sollicitudin. Curabitur a rutrum ex, vitae volutpat nibh. Class aptent taciti sociosqu ad litora torquent per conubia nostra, per inceptos himenaeos. Lorem ipsum dolor sit amet, consectetur adipiscing elit. Vestibulum sed augue et erat dapibus dapibus. Sed vel suscipit mauris. Proin libero nulla, congue sed commodo sit amet, auctor eget velit. Curabitur varius, sem sit amet dapibus finibus, enim nisl scelerisque ipsum, vel convallis nulla dolor non magna. Sed mollis mauris sit amet eros consequat, nec maximus lorem iaculis. Sed non tellus convallis, dictum nisl in, aliquam est. Etiam ac nibh mattis, dictum odio nec, porttitor eros. Fusce egestas, odio non egestas aenean.'"
            ],
            "application/vnd.google.colaboratory.intrinsic+json": {
              "type": "string"
            }
          },
          "metadata": {},
          "execution_count": 38
        }
      ],
      "source": [
        "read_blocks,str_data = user0.read('file0',boss)\n",
        "str_data"
      ]
    },
    {
      "cell_type": "code",
      "execution_count": 39,
      "metadata": {
        "id": "hmjjJ_ZN2BfQ"
      },
      "outputs": [],
      "source": [
        "old_blocks= user0.create_blocks(data,boss)"
      ]
    },
    {
      "cell_type": "code",
      "execution_count": 40,
      "metadata": {
        "id": "gpxMC11S2Ep5"
      },
      "outputs": [],
      "source": [
        "tree_old = buildTree(old_blocks)\n",
        "tree_new = buildTree(read_blocks)"
      ]
    },
    {
      "cell_type": "code",
      "execution_count": 41,
      "metadata": {
        "colab": {
          "base_uri": "https://localhost:8080/",
          "height": 36
        },
        "id": "wXwUM71Y9s6u",
        "outputId": "0bd5f447-a9c8-4bb7-80cb-91949521b22b"
      },
      "outputs": [
        {
          "output_type": "execute_result",
          "data": {
            "text/plain": [
              "'4b90e60fe2c938de30113d21406152c42dc520acfc65dcb06ee3a85326414c576fcbecc31465394d71664a065823d09b8dab7dd4b5fb20a4a0c27db9d346ae8e'"
            ],
            "application/vnd.google.colaboratory.intrinsic+json": {
              "type": "string"
            }
          },
          "metadata": {},
          "execution_count": 41
        }
      ],
      "source": [
        "check_match(tree_old[0],tree_new[0])"
      ]
    },
    {
      "cell_type": "markdown",
      "metadata": {
        "id": "kLU7HgM_UWkF"
      },
      "source": [
        "Unavailable Data server"
      ]
    },
    {
      "cell_type": "code",
      "execution_count": null,
      "metadata": {
        "id": "FSJeyq5nNv4I"
      },
      "outputs": [],
      "source": [
        "result=[]"
      ]
    },
    {
      "cell_type": "code",
      "execution_count": null,
      "metadata": {
        "colab": {
          "base_uri": "https://localhost:8080/"
        },
        "id": "gLE07PEm5_0k",
        "outputId": "ec814cf9-df76-4d5d-a143-ddfb01261332"
      },
      "outputs": [
        {
          "data": {
            "text/plain": [
              "array([79, 78, 77, 76, 75, 74, 73, 72, 71, 70, 69, 68, 67, 66, 65, 64, 63,\n",
              "       62, 61, 60, 59, 58, 57, 56, 55, 54, 53, 52, 51, 50, 49, 48, 47, 46,\n",
              "       45, 44, 43, 42, 41, 40, 39, 38, 37, 36, 35, 34, 33, 32, 31, 30, 29,\n",
              "       28, 27, 26, 25, 24, 23, 22, 21, 20, 19, 18, 17, 16, 15, 14, 13, 12,\n",
              "       11, 10,  9,  8,  7,  6,  5,  4,  3,  2,  1,  0])"
            ]
          },
          "execution_count": 31,
          "metadata": {},
          "output_type": "execute_result"
        }
      ],
      "source": [
        "num_off= 80\n",
        "#avail = np.random.randint(15,size=num_off)\n",
        "avail = np.arange(num_off-1,-1,-1,dtype=int)\n",
        "avail"
      ]
    },
    {
      "cell_type": "code",
      "execution_count": null,
      "metadata": {
        "id": "b9qtLo4-6ECf"
      },
      "outputs": [],
      "source": [
        "for i  in range(num_off):\n",
        "  ds[avail[i]].available = False\n",
        "  _,str_data = boss.read_data('u0','file0')\n",
        "  print(\"After Removing \"+str(i+1)+\" server, \"+str(len(str_data)/len(data)*100)+\"% data recovered\")\n",
        "  result.append([i+1,len(str_data)/len(data)*100])\n",
        "  print('.................................\\n\\n')\n",
        "for i  in range(num_off):\n",
        "  ds[avail[i]].available = True"
      ]
    },
    {
      "cell_type": "code",
      "execution_count": null,
      "metadata": {
        "id": "uTduSaog6O1N"
      },
      "outputs": [],
      "source": [
        "pd.DataFrame.from_dict(result).to_csv('dup/results16MB_8KB_80_RF5.csv',index=False)"
      ]
    },
    {
      "cell_type": "markdown",
      "metadata": {
        "id": "TN8aTLj0ETsk"
      },
      "source": [
        "# **For Performance Test Run from here**"
      ]
    },
    {
      "cell_type": "code",
      "execution_count": null,
      "metadata": {
        "colab": {
          "base_uri": "https://localhost:8080/"
        },
        "id": "lLyFEe_F6Mle",
        "outputId": "7e7cd8d3-fd2e-4aa9-b5d6-81306e9ecbd4"
      },
      "outputs": [
        {
          "name": "stdout",
          "output_type": "stream",
          "text": [
            "Drive already mounted at /content/drive; to attempt to forcibly remount, call drive.mount(\"/content/drive\", force_remount=True).\n",
            "/content/drive/MyDrive/Colab Notebooks\n",
            "'Copy of deduplication Final.ipynb'  \u001b[0m\u001b[01;36m'dup (1)'\u001b[0m@\n",
            "'Copy of deduplication.ipynb'         ICT_MS_DEDUPLICATION.ipynb\n",
            " deduplication.ipynb                 'MS_Copy of Copy of deduplication.ipynb'\n",
            " \u001b[01;36mdup\u001b[0m@                                 Untitled0.ipynb\n"
          ]
        }
      ],
      "source": [
        "# Google Drive Mount\n",
        "from google.colab import drive\n",
        "drive.mount('/content/drive')\n",
        "\n",
        "%cd /content/drive/MyDrive/Colab Notebooks/\n",
        "%ls"
      ]
    },
    {
      "cell_type": "code",
      "execution_count": null,
      "metadata": {
        "id": "-BbCwnqW-VQQ"
      },
      "outputs": [],
      "source": [
        "r=8\n",
        "lf=1024*1024\n",
        "lb = 1024\n",
        "redun=np.arange(3,r+1,dtype=int)\n",
        "max_server = np.array([10,20,40,80])\n",
        "InitSize = np.array([  1 , 4, 8, 16,32,64])\n",
        "file_size=np.array(InitSize*lf)\n",
        "InitSize = np.array([  2 , 4, 8, 16, 32, 64, 128, 256, 512, 1024, 2048, 4*1024, 8*1024 ])\n",
        "block_size = np.array(InitSize*lb)"
      ]
    },
    {
      "cell_type": "code",
      "execution_count": null,
      "metadata": {
        "colab": {
          "base_uri": "https://localhost:8080/"
        },
        "id": "UVQVfg7HIAj0",
        "outputId": "4d2d0b40-4692-4657-aaa9-14d3ef71f3d1"
      },
      "outputs": [
        {
          "data": {
            "text/plain": [
              "array([ 1048576,  4194304,  8388608, 16777216, 33554432, 67108864])"
            ]
          },
          "execution_count": 11,
          "metadata": {},
          "output_type": "execute_result"
        }
      ],
      "source": [
        "file_size"
      ]
    },
    {
      "cell_type": "code",
      "execution_count": null,
      "metadata": {
        "colab": {
          "base_uri": "https://localhost:8080/"
        },
        "id": "fnARkJpMXIkD",
        "outputId": "03043977-3254-4541-d861-2cd3bcb818b6"
      },
      "outputs": [
        {
          "data": {
            "text/plain": [
              "array([   2048,    4096,    8192,   16384,   32768,   65536,  131072,\n",
              "        262144,  524288, 1048576, 2097152, 4194304, 8388608])"
            ]
          },
          "execution_count": 12,
          "metadata": {},
          "output_type": "execute_result"
        }
      ],
      "source": [
        "block_size"
      ]
    },
    {
      "cell_type": "code",
      "execution_count": null,
      "metadata": {
        "colab": {
          "base_uri": "https://localhost:8080/"
        },
        "id": "47HMdfnsS-9s",
        "outputId": "b984b83f-6d4e-4b20-86da-6a34f760553f"
      },
      "outputs": [
        {
          "data": {
            "text/plain": [
              "array([3, 4, 5, 6, 7, 8])"
            ]
          },
          "execution_count": 13,
          "metadata": {},
          "output_type": "execute_result"
        }
      ],
      "source": [
        "redun"
      ]
    },
    {
      "cell_type": "code",
      "execution_count": null,
      "metadata": {
        "id": "kzQIzyPbY2Vu"
      },
      "outputs": [],
      "source": [
        "res_time_tot=[]\n",
        "res_ft_tot=[]"
      ]
    },
    {
      "cell_type": "code",
      "execution_count": null,
      "metadata": {
        "id": "OXu1yUBpontu"
      },
      "outputs": [],
      "source": [
        "datas={}\n",
        "for f in file_size:\n",
        " data = ''.join(random.choice(string.ascii_letters) for i in range(f))\n",
        " datas[str(f)]=data"
      ]
    },
    {
      "cell_type": "code",
      "execution_count": null,
      "metadata": {
        "id": "R-AOM-pITw8u"
      },
      "outputs": [],
      "source": [
        "for m in max_server:\n",
        "  for r in redun:\n",
        "    for f in file_size:\n",
        "      data=datas[str(f)]\n",
        "      for b in block_size:\n",
        "        if b> f:\n",
        "          break;\n",
        "        res_time=[]\n",
        "        res_time.append(m)\n",
        "        res_time.append(r)\n",
        "        res_time.append(f)\n",
        "        res_time.append(b)\n",
        "        \n",
        "        ds=[]\n",
        "        names=[]\n",
        "        sizes=[]\n",
        "        for i in range(120):\n",
        "          ds.append(data_server(i,1000))\n",
        "          names.append(i)\n",
        "          sizes.append(1000)\n",
        "        boss = index_server(0,ds)\n",
        "        boss.server_init(names,sizes)\n",
        "        boss.max_server = m\n",
        "\n",
        "        prev=time.time()\n",
        "        boss.write_data(data,'u0','file0',block_size=b,redundency=r)\n",
        "        cur= time.time()\n",
        "        res_time.append(cur-prev)\n",
        "\n",
        "        prev=time.time()\n",
        "        read_blocks,str_data = boss.read_data('u0','file0')\n",
        "        cur= time.time()\n",
        "        res_time.append(cur-prev)\n",
        "\n",
        "        ##Fault Tollarance##\n",
        "        avail = np.arange(m-1,-1,-1,dtype=int)\n",
        "        res_ft=[]\n",
        "        res_ft.append(m)\n",
        "        res_ft.append(r)\n",
        "        res_ft.append(f)\n",
        "        res_ft.append(b)\n",
        "        for i  in range(m):\n",
        "          ds[avail[i]].available = False\n",
        "          _,str_data = boss.read_data('u0','file0')\n",
        "          #print(\"After Removing \"+str(i+1)+\" server, \"+str(len(str_data)/len(data)*100)+\"% data recovered\")\n",
        "          res_ft.append(len(str_data)/len(data)*100)\n",
        "          #print('.................................\\n\\n')\n",
        "        for i  in range(m):\n",
        "          ds[avail[i]].available = True\n",
        "        \n",
        "        #MHT\n",
        "        prev=time.time()\n",
        "        tree_old = buildTree(read_blocks)\n",
        "        tree_new = buildTree(read_blocks)\n",
        "        check_match(tree_old[0],tree_new[0])\n",
        "        cur= time.time()\n",
        "        res_time.append(cur-prev)\n",
        "\n",
        "        res_time_tot.append(res_time)\n",
        "        res_ft_tot.append(res_ft)"
      ]
    },
    {
      "cell_type": "code",
      "execution_count": null,
      "metadata": {
        "id": "jtcRg28sXz4D"
      },
      "outputs": [],
      "source": [
        "res_time_df = pd.DataFrame(res_time_tot,columns=['max_server','Redundancy','file_size','block_size','write_time','read_time','MHT Time'])\n",
        "res_ft_df = pd.DataFrame(res_ft_tot,)\n"
      ]
    },
    {
      "cell_type": "code",
      "execution_count": null,
      "metadata": {
        "id": "OW8jdkYhX9F0"
      },
      "outputs": [],
      "source": [
        "res_time_df.to_csv('dup/result-read-write3.csv',index=False)\n",
        "res_ft_df.to_csv('dup/result-fault3.csv',index=False)"
      ]
    }
  ],
  "metadata": {
    "colab": {
      "collapsed_sections": [
        "-mPPR5D86Kow"
      ],
      "provenance": [],
      "include_colab_link": true
    },
    "kernelspec": {
      "display_name": "Python 3",
      "name": "python3"
    },
    "language_info": {
      "name": "python"
    }
  },
  "nbformat": 4,
  "nbformat_minor": 0
}